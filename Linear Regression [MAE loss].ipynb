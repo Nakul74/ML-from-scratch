{
 "cells": [
  {
   "cell_type": "code",
   "execution_count": 1,
   "metadata": {},
   "outputs": [],
   "source": [
    "import numpy as np\n",
    "import pandas as pd\n",
    "import matplotlib.pyplot as plt\n",
    "import seaborn as sns"
   ]
  },
  {
   "cell_type": "code",
   "execution_count": 2,
   "metadata": {},
   "outputs": [],
   "source": [
    "# LinearRegression with mse loss\n",
    "class LinearRegression:\n",
    "    \n",
    "    def __init__(self, eta=0.01, reg='l2', reg_coeff=0.01, n_iter=1000, th=1e-3 ):\n",
    "        self.eta = eta\n",
    "        self.reg = reg\n",
    "        self.reg_coeff = reg_coeff\n",
    "        self.n_iter = n_iter\n",
    "        self.th = th\n",
    "        self.w = None\n",
    "        self.mse = None\n",
    "        \n",
    "    def fit(self, X, y):\n",
    "        \n",
    "        v = np.ones((X.shape[0],1))\n",
    "        X = np.c_[v,X]\n",
    "        N, D = X.shape\n",
    "        \n",
    "        self.w = np.zeros(D)\n",
    "        self.mse = []\n",
    "        \n",
    "        for j in range(self.n_iter):\n",
    "            err = 0\n",
    "            for i in range(N):\n",
    "                y_pred = np.dot(X[i],self.w)\n",
    "                d = y_pred - y[i]\n",
    "                \n",
    "                if self.reg == 'l1':\n",
    "                    dw = (np.dot(X[i].T,d) + self.reg_coeff * np.sign(self.w))\n",
    "                else:\n",
    "                    dw = (np.dot(X[i].T,d) + self.reg_coeff * self.w)\n",
    "                    \n",
    "                self.w -= self.eta * dw\n",
    "                err+=np.square(d)\n",
    "                \n",
    "            self.mse.append(err/N)\n",
    "            if j!=0:\n",
    "                if (self.mse[j-1] - self.mse[j]) < self.th:\n",
    "                    break\n",
    "        \n",
    "    def predict(self, X):\n",
    "        v = np.ones((X.shape[0],1))\n",
    "        X = np.c_[v,X]\n",
    "        y_pred = np.dot(X, self.w)\n",
    "        return y_pred\n",
    "    \n",
    "    def metrics(self, X, y):\n",
    "        v = np.ones((X.shape[0],1))\n",
    "        X = np.c_[v,X]\n",
    "        y_pred = np.dot(X, self.w)\n",
    "        d = y-y_pred\n",
    "        mse=np.mean(d**2)\n",
    "        mae=np.mean(abs(d))\n",
    "        rmse=np.sqrt(mse)\n",
    "        r2=1-(sum(d**2)/sum((y-np.mean(y))**2))\n",
    "        print(\"MSE = {}\".format(mse))\n",
    "        print(\"MAE = {}\".format(mae))\n",
    "        print(\"RMSE = {}\".format(rmse))\n",
    "        print(\"R_squared = {}\".format(r2))\n",
    "        \n",
    "    def score(self, X, y):\n",
    "        v = np.ones((X.shape[0],1))\n",
    "        X = np.c_[v,X]\n",
    "        y_pred = np.dot(X, self.w)\n",
    "        d = y-y_pred\n",
    "        r2 = 1-(sum(d**2)/sum((y-np.mean(y))**2))\n",
    "        return r2\n",
    "        \n",
    "    def weights(self):\n",
    "        return self.w\n",
    "    \n",
    "    def error(self):\n",
    "        return np.array(self.mse)"
   ]
  },
  {
   "cell_type": "code",
   "execution_count": 3,
   "metadata": {},
   "outputs": [],
   "source": [
    "# LinearRegression with mae loss\n",
    "class LinearRegression2:\n",
    "    \n",
    "    def __init__(self, eta=0.01, reg='l2', reg_coeff=0.01, n_iter=1000, th=1e-3 ):\n",
    "        self.eta = eta\n",
    "        self.reg = reg\n",
    "        self.reg_coeff = reg_coeff\n",
    "        self.n_iter = n_iter\n",
    "        self.th = th\n",
    "        self.w = None\n",
    "        self.mse = None\n",
    "        \n",
    "    def fit(self, X, y):\n",
    "        v = np.ones((X.shape[0],1))\n",
    "        X = np.c_[v,X]\n",
    "        N, D = X.shape\n",
    "        \n",
    "        self.w = np.zeros(D)\n",
    "        self.mse = []\n",
    "        \n",
    "        for j in range(self.n_iter):\n",
    "            err = 0\n",
    "            for i in range(N):\n",
    "                y_pred = np.dot(X[i],self.w)\n",
    "                d = y_pred - y[i]  \n",
    "                \n",
    "                if self.reg == 'l1':\n",
    "                    dw = np.sign(np.dot(X[i].T,d) + self.reg_coeff * np.sign(self.w))\n",
    "                else:\n",
    "                    dw = np.sign(np.dot(X[i].T,d) + self.reg_coeff * self.w)\n",
    "                    \n",
    "                self.w -= self.eta * dw    \n",
    "                err+=np.square(d)\n",
    "                \n",
    "            self.mse.append(err/N)\n",
    "            if j!=0:\n",
    "                if (self.mse[j-1] - self.mse[j]) < self.th:\n",
    "                    break\n",
    "        \n",
    "    def predict(self, X):\n",
    "        v = np.ones((X.shape[0],1))\n",
    "        X = np.c_[v,X]\n",
    "        y_pred = np.dot(X, self.w)\n",
    "        return y_pred\n",
    "    \n",
    "    def metrics(self, X, y):\n",
    "        v = np.ones((X.shape[0],1))\n",
    "        X = np.c_[v,X]\n",
    "        y_pred = np.dot(X, self.w)\n",
    "        d = y-y_pred\n",
    "        mse=np.mean(d**2)\n",
    "        mae=np.mean(abs(d))\n",
    "        rmse=np.sqrt(mse)\n",
    "        r2=1-(sum(d**2)/sum((y-np.mean(y))**2))\n",
    "        print(\"MSE = {}\".format(mse))\n",
    "        print(\"MAE = {}\".format(mae))\n",
    "        print(\"RMSE = {}\".format(rmse))\n",
    "        print(\"R_squared = {}\".format(r2))\n",
    "        \n",
    "    def score(self, X, y):\n",
    "        v = np.ones((X.shape[0],1))\n",
    "        X = np.c_[v,X]\n",
    "        y_pred = np.dot(X, self.w)\n",
    "        d = y-y_pred\n",
    "        r2 = 1-(sum(d**2)/sum((y-np.mean(y))**2))\n",
    "        return r2\n",
    "        \n",
    "    def weights(self):\n",
    "        return self.w\n",
    "    \n",
    "    def error(self):\n",
    "        return np.array(self.mse)"
   ]
  },
  {
   "cell_type": "code",
   "execution_count": 4,
   "metadata": {},
   "outputs": [],
   "source": [
    "df=pd.read_csv(r\"Fish.csv\")"
   ]
  },
  {
   "cell_type": "code",
   "execution_count": 5,
   "metadata": {},
   "outputs": [],
   "source": [
    "X=df.iloc[:,df.columns !='Weight']\n",
    "y=df.iloc[:,df.columns =='Weight']"
   ]
  },
  {
   "cell_type": "code",
   "execution_count": 6,
   "metadata": {},
   "outputs": [],
   "source": [
    "from sklearn.model_selection import train_test_split\n",
    "X_train, X_test, y_train, y_test = train_test_split(X, y,test_size=0.3 , random_state=100)"
   ]
  },
  {
   "cell_type": "code",
   "execution_count": 7,
   "metadata": {},
   "outputs": [],
   "source": [
    "from feature_engine.encoding import OneHotEncoder\n",
    "encoder=OneHotEncoder(variables=['Species'] ,drop_last=True)\n",
    "X_train=encoder.fit_transform(X_train)\n",
    "X_test=encoder.transform(X_test)"
   ]
  },
  {
   "cell_type": "code",
   "execution_count": 8,
   "metadata": {},
   "outputs": [],
   "source": [
    "from sklearn.preprocessing import StandardScaler\n",
    "scaler=StandardScaler()\n",
    "X_train=scaler.fit_transform(X_train)\n",
    "X_test=scaler.transform(X_test)"
   ]
  },
  {
   "cell_type": "code",
   "execution_count": 9,
   "metadata": {},
   "outputs": [],
   "source": [
    "y_train=y_train.values\n",
    "y_test=y_test.values"
   ]
  },
  {
   "cell_type": "code",
   "execution_count": 10,
   "metadata": {},
   "outputs": [],
   "source": [
    "y_train=y_train.reshape(-1)\n",
    "y_test=y_test.reshape(-1)"
   ]
  },
  {
   "cell_type": "code",
   "execution_count": 11,
   "metadata": {},
   "outputs": [
    {
     "name": "stdout",
     "output_type": "stream",
     "text": [
      "MSE = 14898.211568587518\n",
      "MAE = 88.45949265901594\n",
      "RMSE = 122.05823023699597\n",
      "R_squared = 0.8610626645463968\n"
     ]
    }
   ],
   "source": [
    "clf = LinearRegression2()\n",
    "clf.fit(X_train, y_train)\n",
    "clf.metrics(X_test,y_test)"
   ]
  },
  {
   "cell_type": "code",
   "execution_count": 12,
   "metadata": {},
   "outputs": [
    {
     "data": {
      "text/plain": [
       "array([ 364.22,   72.26,   72.7 ,   69.64,  110.  ,   35.2 , -251.28,\n",
       "       -274.7 , -192.56, -203.96, -156.44, -178.28])"
      ]
     },
     "execution_count": 12,
     "metadata": {},
     "output_type": "execute_result"
    }
   ],
   "source": [
    "w = clf.weights()\n",
    "w"
   ]
  },
  {
   "cell_type": "code",
   "execution_count": 13,
   "metadata": {},
   "outputs": [
    {
     "data": {
      "text/plain": [
       "array([291956.61890229, 291356.73835402, 290744.62707934, 290105.76882753,\n",
       "       289471.63793566, 288842.23440372, 288217.55823172, 287597.60941964,\n",
       "       286982.3879675 , 286371.8938753 , 285766.12714303, 285165.08777069,\n",
       "       284568.77575829, 283977.19110582, 283393.30058114, 282797.65006059,\n",
       "       282168.67896132, 281544.09169411, 280923.88825896, 280308.06865588,\n",
       "       279647.41157709, 278987.97712832, 278332.62876106, 277681.36647531,\n",
       "       277034.19027107, 276391.10014834, 275752.09610712, 275117.17814741,\n",
       "       274466.82199393, 273786.68845321, 273110.38902076, 272437.92369658,\n",
       "       271770.64568477, 271084.28398699, 270381.16067651, 269615.89515218,\n",
       "       268853.78922395, 268058.86503057, 267196.33720719, 266336.55229175,\n",
       "       265480.05136479, 264626.8344263 , 263776.90147629, 262930.25251476,\n",
       "       262086.8875417 , 261246.80655712, 260410.00956102, 259576.49655339,\n",
       "       258746.26753424, 257919.32250357, 257095.66146137, 256275.28440765,\n",
       "       255458.19134241, 254644.38226565, 253833.85717736, 253029.1157422 ,\n",
       "       252235.67159146, 251417.61374538, 250565.62364076, 249719.34026201,\n",
       "       248883.24891148, 248025.09157731, 247131.61167557, 246242.83541735,\n",
       "       245361.67183322, 244422.29973399, 243433.31351219, 242447.79359613,\n",
       "       241465.7399858 , 240487.49847492, 239523.29535615, 238500.59056139,\n",
       "       237478.56140731, 236460.15858157, 235445.38208417, 234435.52870408,\n",
       "       233430.58560456, 232429.66744964, 231424.1839703 , 230374.28253033,\n",
       "       229328.21321862, 228285.97603516, 227247.57097996, 226212.99805302,\n",
       "       225185.91764689, 224158.92931785, 223136.04434757, 222126.19876297,\n",
       "       221119.8475524 , 220062.11128332, 219002.39551464, 217946.76345145,\n",
       "       216895.21509376, 215847.75044155, 214804.36949484, 213765.07225362,\n",
       "       212729.85871789, 211698.72888766, 210671.68276291, 209650.21236406,\n",
       "       208634.26284307, 207623.76339774, 206622.14543124, 205623.25072221,\n",
       "       204602.66972899, 203553.6399762 , 202508.89943326, 201468.44810017,\n",
       "       200433.93070436, 199410.95055211, 198389.30371522, 197380.55455283,\n",
       "       196364.04345866, 195256.38095592, 194126.54945338, 193002.10635948,\n",
       "       191883.05167423, 190767.89985648, 189649.82991969, 188537.25832713,\n",
       "       187430.18507881, 186327.09959432, 185228.30727861, 184135.01999581,\n",
       "       183047.23774591, 181965.59777411, 180900.43403329, 179848.298118  ,\n",
       "       178798.80291477, 177737.32293445, 176664.01879709, 175596.42263312,\n",
       "       174535.89908044, 173488.67638599, 172447.04842535, 171411.01519854,\n",
       "       170380.57670553, 169355.73294635, 168338.93976436, 167338.21907695,\n",
       "       166350.98556843, 165369.1362434 , 164392.67110187, 163424.00561527,\n",
       "       162466.06237706, 161505.69619079, 160553.09965345, 159614.4444765 ,\n",
       "       158681.50800775, 157753.75181861, 156831.17590906, 155913.78027911,\n",
       "       155001.56492876, 154097.09751341, 153204.87315969, 152315.42775783,\n",
       "       151426.11221431, 150546.89081949, 149665.59580082, 148789.48106174,\n",
       "       147914.67305928, 147052.39503871, 146195.22326913, 145343.15775054,\n",
       "       144497.71196004, 143657.54700069, 142822.46270336, 141992.45906806,\n",
       "       141167.5360948 , 140347.69378357, 139532.93213437, 138723.2511472 ,\n",
       "       137918.65082207, 137119.13115897, 136335.32950336, 135573.75320593,\n",
       "       134798.34761418, 134024.7671579 , 133256.65552129, 132486.77653914,\n",
       "       131721.97405378, 130962.24806521, 130216.47876576, 129476.49359584,\n",
       "       128741.78746824, 128011.23429665, 127285.75684857, 126565.35512399,\n",
       "       125850.02912291, 125139.77884533, 124434.60429125, 123732.88583487,\n",
       "       123036.3122952 , 122346.81626958, 121669.17138497, 121000.04669093,\n",
       "       120329.71891488, 119647.45226171, 118965.10127017, 118287.93447345,\n",
       "       117614.02591348, 116945.25825482, 116291.0076504 , 115669.00867797,\n",
       "       115053.6690249 , 114442.66463816, 113834.01845166, 113235.50463817,\n",
       "       112673.14306472, 112114.71700174, 111560.22644922, 111009.67140717,\n",
       "       110463.05187559, 109921.88931116, 109382.93563889, 108855.75477946,\n",
       "       108331.80791326, 107801.09786573, 107269.07362535, 106740.83083302,\n",
       "       106215.4819844 , 105695.11473397, 105179.1685861 , 104663.91464267,\n",
       "       104145.73785318, 103632.78014567, 103123.60942207, 102618.2256824 ,\n",
       "       102116.62892665, 101622.86520608, 101157.07885861, 100713.01870532,\n",
       "       100292.61096632,  99871.86191131,  99454.14659115,  99039.6929883 ,\n",
       "        98622.14171561,  98193.55897287,  97740.52877   ,  97274.25298829,\n",
       "        96812.81348028,  96358.5982188 ,  95909.1339541 ,  95464.01879208,\n",
       "        95033.22113587,  94612.0338646 ,  94194.82472392,  93776.90404853,\n",
       "        93359.79865955,  92950.47875735,  92548.73899039,  92151.14587622,\n",
       "        91757.15833397,  91366.02115013,  90976.28793244,  90587.04284644,\n",
       "        90204.42165693,  89838.01564702,  89481.43009044,  89123.74705085,\n",
       "        88759.5895353 ,  88395.83943101,  88044.91879877,  87691.70326293,\n",
       "        87333.69651263,  86976.63010672,  86622.72337771,  86267.38198487,\n",
       "        85915.07152413,  85574.00322286,  85233.3594228 ,  84895.65022461,\n",
       "        84560.87562828,  84231.79625263,  83911.4585523 ,  83594.03993371,\n",
       "        83278.25671729,  82963.75685788,  82652.2529159 ,  82344.68064256,\n",
       "        82047.21287995,  81755.97057008,  81466.26339025,  81176.54392226,\n",
       "        80894.3327286 ,  80614.30593172,  80343.5668534 ,  80076.49954309,\n",
       "        79815.11102259,  79559.45015193,  79309.93186399,  79059.41820871,\n",
       "        78808.99923296,  78567.22413613,  78340.30460702,  78118.13706303,\n",
       "        77897.85088168,  77669.71304648,  77435.98917328,  77202.1044958 ,\n",
       "        76982.37140702,  76782.4500213 ,  76595.95109809,  76416.3248949 ,\n",
       "        76241.75414783,  76058.15916586,  75870.74788479,  75678.83086217,\n",
       "        75483.47427278,  75292.36027791,  75107.04404691,  74920.55190033,\n",
       "        74744.5690997 ,  74573.93636471,  74397.3724181 ,  74220.88609637,\n",
       "        74040.79216098,  73861.50638144,  73683.41748909,  73513.53877582,\n",
       "        73344.86299748,  73181.82397266,  73016.72642501,  72859.28482615,\n",
       "        72703.46221414,  72548.57253155,  72394.58421636,  72238.87334522,\n",
       "        72084.05380464,  71931.04812166,  71782.05580628,  71635.80825621,\n",
       "        71489.67767293,  71343.09147   ,  71198.04370369,  71051.77326764,\n",
       "        70906.22025374,  70761.62689475,  70617.48095736,  70472.04044945,\n",
       "        70323.13734919,  70169.64951107,  70017.20270864,  69862.60826064,\n",
       "        69708.3785639 ,  69553.82095372,  69413.51171849,  69274.5921008 ,\n",
       "        69138.6927834 ,  69002.77394648,  68863.55724641,  68725.16690637,\n",
       "        68577.92140281,  68426.3667249 ,  68277.82356141,  68130.28362818,\n",
       "        67983.68880182,  67838.03908235,  67688.74184147,  67542.365992  ,\n",
       "        67396.8893272 ,  67251.5651986 ,  67107.12779022,  66963.5756417 ,\n",
       "        66820.90875305,  66686.31717142,  66553.65400533,  66420.68620455,\n",
       "        66288.28111678,  66155.65578272,  66022.97975358,  65883.24271821,\n",
       "        65743.80647309,  65612.60912914,  65487.49244902,  65365.1851547 ,\n",
       "        65243.4737965 ,  65122.35837443,  65001.83888849,  64881.96817077,\n",
       "        64762.78441938,  64644.2167403 ,  64526.26513353,  64408.92959905,\n",
       "        64292.21013688,  64176.10674702,  64060.61942946,  63945.7481842 ,\n",
       "        63831.49301124,  63717.85391059,  63604.83088224,  63492.42392619,\n",
       "        63380.63304245,  63269.45823101,  63158.89949188,  63048.95682505,\n",
       "        62939.63023052,  62830.91970829,  62722.82525837,  62615.34688075,\n",
       "        62508.48457544,  62402.23834243,  62296.60818172,  62191.59409332,\n",
       "        62087.19607722,  61983.41413342,  61880.24826193,  61777.69846274,\n",
       "        61675.76473585,  61574.44708127,  61467.7420044 ,  61361.45594364,\n",
       "        61258.42732081,  61157.15242424,  61056.51782436,  60956.55432002,\n",
       "        60857.2270414 ,  60758.5359885 ,  60665.81868302,  60574.35105854,\n",
       "        60483.47568961,  60394.61504569,  60307.91480868,  60217.94914089,\n",
       "        60124.75196279,  60032.04195392,  59937.86726656,  59843.9232109 ,\n",
       "        59750.4686799 ,  59657.50367356,  59560.57807279,  59459.74275587,\n",
       "        59359.4058347 ,  59254.07135701,  59148.41206128,  59042.99094582,\n",
       "        58936.19192648,  58831.1932769 ,  58731.32888485,  58634.15747325,\n",
       "        58534.134244  ,  58441.24723748,  58350.66106837,  58265.33148947,\n",
       "        58183.45951019,  58103.90867481,  58023.51676569,  57943.51978329,\n",
       "        57863.91772761,  57781.97683728,  57704.76212172,  57627.22698247,\n",
       "        57550.84483957,  57472.02866378,  57393.25693831,  57314.85525693,\n",
       "        57235.09754078,  57156.21996578,  57077.88540645,  56999.93336244,\n",
       "        56921.69343337,  56842.3940155 ,  56763.55054862,  56687.21150277,\n",
       "        56615.04658777,  56543.23698811,  56471.78270377,  56400.68373477,\n",
       "        56329.9400811 ,  56258.56863929,  56182.2001995 ,  56106.59246468,\n",
       "        56032.02886506,  55953.47368423,  55878.51311593,  55803.89099788,\n",
       "        55730.65875507,  55664.10787515,  55597.86188778,  55532.82964102,\n",
       "        55475.34551981,  55419.51488569,  55363.44078415,  55307.63246024,\n",
       "        55246.64674427,  55188.7691329 ,  55129.69919912,  55069.11832749,\n",
       "        55008.35267261,  54945.78411903,  54878.32399119,  54813.23075388,\n",
       "        54749.88675452,  54690.51858156,  54631.41271042,  54572.81409484,\n",
       "        54520.64467574,  54467.61652798,  54414.62526268,  54365.37117223,\n",
       "        54313.08343766,  54259.50558127,  54206.10247014,  54152.21998031,\n",
       "        54098.52407604,  54045.01475734,  53990.65935886,  53935.26644175,\n",
       "        53873.93016101,  53812.80719635,  53750.45809481,  53684.67375868,\n",
       "        53620.32821374,  53555.45258455,  53488.19346626,  53419.88353956,\n",
       "        53351.78917936,  53283.91038567,  53216.4206751 ,  53151.82783215,\n",
       "        53091.95203658,  53030.01750143,  52968.27351005,  52906.71446009,\n",
       "        52845.34035156,  52784.88814507,  52724.63040656,  52664.56158044,\n",
       "        52604.68166671,  52544.83537396,  52484.57928746,  52425.37760927,\n",
       "        52366.69360525,  52305.73135001,  52254.72245866,  52203.30442679,\n",
       "        52149.60109141,  52096.08684914,  52042.47083454,  51986.60314103,\n",
       "        51930.93609868,  51875.46970749,  51820.20396746,  51767.37011794,\n",
       "        51714.70142236,  51663.03098523,  51610.89765993,  51557.55005749,\n",
       "        51504.36037573,  51451.29301834,  51390.35033717,  51328.78077225,\n",
       "        51267.40747088,  51206.23043304,  51144.749059  ,  51081.06700834,\n",
       "        51017.58635975,  50952.46293639,  50886.61098098,  50816.04701808,\n",
       "        50745.70359981,  50676.39301107,  50608.49723443,  50542.28751754,\n",
       "        50476.37728991,  50411.33588051,  50346.48771387,  50281.83278999,\n",
       "        50217.41361234,  50156.07722199,  50099.2682577 ,  50042.61403029,\n",
       "        49985.84165459,  49923.767775  ,  49861.86370883,  49800.12945607,\n",
       "        49737.99643337,  49676.19796864,  49612.62757763,  49548.76184502,\n",
       "        49486.08764123,  49420.96487248,  49350.58130199,  49282.22225428,\n",
       "        49217.169064  ,  49151.89671031,  49085.15980108,  49018.54443528,\n",
       "        48953.148359  ,  48890.67516283,  48832.40789785,  48772.66122248,\n",
       "        48709.0335735 ,  48645.30247889,  48582.78373437,  48520.45005044,\n",
       "        48458.30142711,  48396.32590884,  48336.55181301,  48278.98955381,\n",
       "        48221.61242936,  48164.82875764,  48109.82533367,  48055.304178  ,\n",
       "        48001.03223295,  47946.9777579 ,  47893.92936949,  47842.73619598,\n",
       "        47792.13084777,  47743.30791979,  47696.23396477,  47649.28626616,\n",
       "        47602.46927436,  47557.11028569,  47506.67318154,  47456.28969482,\n",
       "        47406.05353182,  47355.96469253,  47306.02317695,  47256.46575031,\n",
       "        47211.59692718,  47162.589216  ,  47114.50997414,  47067.13723387,\n",
       "        47018.78718402,  46970.56463825,  46922.46959654,  46874.50205889,\n",
       "        46826.66202532,  46778.94949581,  46731.36447037,  46683.906949  ,\n",
       "        46636.5769317 ,  46589.37441846,  46542.2994093 ,  46495.3519042 ,\n",
       "        46448.53190317,  46401.83940621,  46355.27441331,  46308.83692448,\n",
       "        46263.66251353,  46219.15680425,  46174.77603168,  46130.5201958 ,\n",
       "        46086.38929663,  46042.00347651,  45998.95639945,  45959.0225586 ,\n",
       "        45920.23388829,  45878.90548803,  45839.12441125,  45799.46198458,\n",
       "        45759.91820801,  45719.16813874,  45679.39494357,  45639.74785255,\n",
       "        45600.22686567,  45560.97674668,  45523.90380048,  45486.95427991,\n",
       "        45450.12818496,  45413.42551563,  45376.84627193,  45340.39045386,\n",
       "        45303.00812717,  45266.54874491,  45230.31124489,  45193.05616254,\n",
       "        45155.92956583,  45118.93145477,  45081.39656986,  45042.56317654,\n",
       "        45005.12753175,  44966.92572532,  44928.8398897 ,  44890.8700249 ,\n",
       "        44853.01613091,  44815.27820774,  44777.65625537,  44740.15027382,\n",
       "        44702.76026308,  44665.48622316,  44628.32815404,  44591.28605574,\n",
       "        44554.35992826,  44517.90189819,  44486.18138028,  44452.57718702,\n",
       "        44420.5475754 ,  44388.61229123,  44356.77133453,  44325.0247053 ,\n",
       "        44293.37240352,  44261.8144292 ,  44230.35078234,  44198.98146295,\n",
       "        44167.70647101,  44136.52580654,  44105.43946953,  44074.44745998,\n",
       "        44043.54977789,  44013.21069996,  43981.00330001,  43950.38551851,\n",
       "        43919.86206447,  43889.43293789,  43858.34846993,  43825.85279599,\n",
       "        43793.19961822,  43760.63099821,  43728.19960636,  43696.07374822,\n",
       "        43664.05189343,  43632.49254827,  43599.34016826,  43566.27186261,\n",
       "        43533.60946238,  43499.29792138,  43465.06743163,  43430.91799313,\n",
       "        43396.84960586,  43362.64502695,  43329.84414097,  43295.99395268,\n",
       "        43262.78329098,  43226.98451482,  43191.3042627 ,  43155.71306183,\n",
       "        43120.2109122 ,  43084.79781382,  43049.30560664,  43014.09976051,\n",
       "        42978.98702944,  42943.18838905,  42909.0879962 ,  42875.08716748,\n",
       "        42841.51819381,  42811.20670049,  42780.32861345,  42748.75139879,\n",
       "        42718.75640762,  42689.33422085,  42659.20993665,  42629.99404466,\n",
       "        42599.01006633,  42569.64770821,  42541.06496644,  42513.39916435,\n",
       "        42484.35457834,  42455.41552428,  42427.0441389 ,  42398.40986086,\n",
       "        42369.0735611 ,  42340.6649574 ,  42310.87641665,  42281.87532872,\n",
       "        42253.80447654,  42225.69740823,  42198.40466804,  42172.03926152,\n",
       "        42144.28168679,  42116.62964401,  42088.00516639,  42061.12988062,\n",
       "        42034.29763736,  42007.84212836,  41979.4492321 ,  41953.65725263,\n",
       "        41926.67018352,  41899.58904004,  41875.20203703,  41847.37900162,\n",
       "        41823.21602322,  41794.93807975,  41770.1633836 ,  41743.62843528,\n",
       "        41718.39358396,  41691.24855198,  41666.53160867,  41643.26004297,\n",
       "        41616.58996744,  41592.36384924,  41567.57970809,  41542.07690364,\n",
       "        41519.2473149 ,  41494.52677978,  41470.23942733,  41446.24099801,\n",
       "        41422.89618469,  41398.66230282,  41375.55363768,  41352.88484375,\n",
       "        41328.47679769,  41304.61729713,  41278.92976738,  41251.51901389,\n",
       "        41225.10380057,  41197.92182847,  41170.76680517,  41144.88449423,\n",
       "        41118.0020893 ,  41091.41485282,  41066.79994857,  41040.79117333,\n",
       "        41015.60604001,  40991.39986159,  40967.35728392,  40945.15702298,\n",
       "        40923.10636597,  40901.20531289,  40878.05613716,  40855.06830755,\n",
       "        40832.20145156,  40810.88430521,  40790.26740945,  40770.54957482,\n",
       "        40748.72998596,  40725.41101273,  40700.50518558,  40675.75468045,\n",
       "        40651.142364  ,  40627.36497278,  40604.60863069,  40581.10923055,\n",
       "        40558.63276302,  40535.41135397,  40513.20192965,  40490.42695426,\n",
       "        40469.3874316 ,  40447.79972892,  40427.90833309,  40409.57784366,\n",
       "        40388.52017521,  40367.5741598 ,  40346.73979741,  40326.01708806,\n",
       "        40305.40603174,  40284.89806496,  40262.58572194,  40239.21905672,\n",
       "        40209.71402227,  40177.56148215,  40146.57780547,  40117.40043018,\n",
       "        40089.51470906,  40061.39238718,  40035.60609562,  40010.31781843,\n",
       "        39985.24173653,  39958.58654184,  39933.24743129,  39906.476146  ,\n",
       "        39880.49045117,  39848.66173421,  39813.47370287,  39771.9350745 ,\n",
       "        39727.52100715,  39685.31646007,  39646.60013449,  39608.66850087,\n",
       "        39572.51005593,  39537.94343881,  39504.13737234,  39470.38761525,\n",
       "        39436.83601336,  39402.31048485,  39369.55750148,  39338.08490925,\n",
       "        39306.65133049,  39275.25676519,  39243.90121335,  39212.58467497,\n",
       "        39181.30715005,  39150.06863859,  39118.86914059,  39087.70865606,\n",
       "        39056.15801983,  39021.79719898,  38987.55522881,  38953.71256481,\n",
       "        38920.76252272,  38886.79961049,  38852.88659676,  38819.71904116,\n",
       "        38786.04081744,  38752.9690367 ,  38720.08108702,  38687.24062044,\n",
       "        38653.75767026,  38621.15696663,  38588.42136328,  38555.04624006,\n",
       "        38522.26827752,  38488.99031642,  38456.30709706,  38423.46254592,\n",
       "        38390.83814596,  38357.71968316,  38325.19219472,  38292.17306781,\n",
       "        38259.74249088,  38226.82269985,  38194.21263303,  38159.3956624 ,\n",
       "        38121.00320056,  38082.72046873,  38043.97299734,  38005.15743604,\n",
       "        37967.07408294,  37928.66202656,  37891.06364256,  37853.66532475,\n",
       "        37815.67363636,  37778.26993972,  37740.41119497,  37702.55993959,\n",
       "        37665.6854866 ,  37628.87423728,  37591.29114255,  37549.79928473,\n",
       "        37507.96707505,  37462.41240338,  37413.60919898,  37364.49371595,\n",
       "        37314.12163752,  37265.0844675 ,  37217.06914434,  37167.97158778,\n",
       "        37121.80478728,  37076.05249248,  37032.30791804,  36988.37494337,\n",
       "        36944.44193933,  36902.9905728 ,  36861.6078448 ,  36819.88061245,\n",
       "        36780.22339731,  36740.6224704 ,  36701.09718804,  36661.63348669,\n",
       "        36622.15667386,  36584.16812804,  36549.79987318,  36517.22216938,\n",
       "        36487.13438903,  36456.788574  ,  36426.48583853,  36396.99078868,\n",
       "        36368.19610433,  36340.98748008,  36313.96389963,  36289.00427092,\n",
       "        36264.04955156,  36239.56774306,  36215.31402063,  36189.6266008 ,\n",
       "        36163.94513445,  36138.33305842,  36112.33534101,  36086.73732441,\n",
       "        36061.23833873,  36035.77702253,  36007.4170714 ,  35978.4923926 ,\n",
       "        35949.87823449,  35921.34382822,  35893.71365094,  35865.32836868,\n",
       "        35838.22856164,  35811.13308734,  35784.87338838,  35758.72110565,\n",
       "        35732.60883911,  35706.53658876,  35680.5043546 ,  35654.51213663,\n",
       "        35628.46460378,  35603.89711677,  35579.3696653 ,  35554.88224939,\n",
       "        35530.43486903,  35506.02752422,  35481.66021496,  35457.33294125,\n",
       "        35433.04570309,  35408.79850049,  35384.59133343,  35360.42420193,\n",
       "        35336.29710597,  35312.21004557,  35288.16302072,  35264.15603142,\n",
       "        35240.18907767,  35216.26215947,  35192.37527682,  35168.52842973,\n",
       "        35143.97698765,  35119.85461629,  35096.72558474,  35073.11968565])"
      ]
     },
     "execution_count": 13,
     "metadata": {},
     "output_type": "execute_result"
    }
   ],
   "source": [
    "mse = clf.error()\n",
    "mse"
   ]
  },
  {
   "cell_type": "code",
   "execution_count": 14,
   "metadata": {
    "scrolled": true
   },
   "outputs": [
    {
     "data": {
      "text/plain": [
       "[<matplotlib.lines.Line2D at 0x29a467a0f48>]"
      ]
     },
     "execution_count": 14,
     "metadata": {},
     "output_type": "execute_result"
    },
    {
     "data": {
      "image/png": "[encoded data removed]",
      "text/plain": [
       "<Figure size 432x288 with 1 Axes>"
      ]
     },
     "metadata": {
      "needs_background": "light"
     },
     "output_type": "display_data"
    }
   ],
   "source": [
    "plt.plot(mse)"
   ]
  },
  {
   "cell_type": "code",
   "execution_count": null,
   "metadata": {},
   "outputs": [],
   "source": []
  },
  {
   "cell_type": "markdown",
   "metadata": {},
   "source": [
    "### Effect of n_iter on Linear Regression"
   ]
  },
  {
   "cell_type": "code",
   "execution_count": 15,
   "metadata": {},
   "outputs": [
    {
     "name": "stdout",
     "output_type": "stream",
     "text": [
      "For i = 100\n",
      "Training Score = -0.5380511738512908\n",
      "Testing Score = -0.6364288894623278\n",
      "***************************************************\n",
      "For i = 200\n",
      "Training Score = 0.13302174830523328\n",
      "Testing Score = 0.20158359568613105\n",
      "***************************************************\n",
      "For i = 300\n",
      "Training Score = 0.4334104100697165\n",
      "Testing Score = 0.5266274692339342\n",
      "***************************************************\n",
      "For i = 400\n",
      "Training Score = 0.5402599649122046\n",
      "Testing Score = 0.6229151801182895\n",
      "***************************************************\n",
      "For i = 500\n",
      "Training Score = 0.600590992252178\n",
      "Testing Score = 0.6831571049493582\n",
      "***************************************************\n",
      "For i = 600\n",
      "Training Score = 0.6453844604386314\n",
      "Testing Score = 0.7318362692610774\n",
      "***************************************************\n",
      "For i = 700\n",
      "Training Score = 0.6761230142791586\n",
      "Testing Score = 0.7759040545782421\n",
      "***************************************************\n",
      "For i = 800\n",
      "Training Score = 0.697641130529294\n",
      "Testing Score = 0.8113863717909608\n",
      "***************************************************\n",
      "For i = 900\n",
      "Training Score = 0.7186019511474593\n",
      "Testing Score = 0.8397829480069906\n",
      "***************************************************\n",
      "For i = 1000\n",
      "Training Score = 0.7422619784025053\n",
      "Testing Score = 0.8610626645463968\n",
      "***************************************************\n"
     ]
    }
   ],
   "source": [
    "train=[]\n",
    "test=[]\n",
    "for i in range(100,1001,100):\n",
    "    print('For i =',i)\n",
    "    clf = LinearRegression2(n_iter = i)\n",
    "    clf.fit(X_train,y_train)\n",
    "    print('Training Score =',clf.score(X_train,y_train))\n",
    "    print('Testing Score =',clf.score(X_test,y_test))\n",
    "    train.append(round(clf.score(X_train,y_train),3))\n",
    "    test.append(round(clf.score(X_test,y_test),3))\n",
    "    print('***************************************************')"
   ]
  },
  {
   "cell_type": "code",
   "execution_count": 16,
   "metadata": {},
   "outputs": [
    {
     "data": {
      "text/plain": [
       "[<matplotlib.lines.Line2D at 0x29a46752908>]"
      ]
     },
     "execution_count": 16,
     "metadata": {},
     "output_type": "execute_result"
    },
    {
     "data": {
      "image/png": "[encoded data removed]",
      "text/plain": [
       "<Figure size 432x288 with 1 Axes>"
      ]
     },
     "metadata": {
      "needs_background": "light"
     },
     "output_type": "display_data"
    }
   ],
   "source": [
    "plt.plot(train)\n",
    "plt.plot(test)"
   ]
  },
  {
   "cell_type": "markdown",
   "metadata": {},
   "source": [
    "### Effect of type of regularization on model"
   ]
  },
  {
   "cell_type": "code",
   "execution_count": 17,
   "metadata": {},
   "outputs": [
    {
     "name": "stdout",
     "output_type": "stream",
     "text": [
      "For reg = l1\n",
      "Training Score = 0.7100174041435146\n",
      "Testing Score = 0.8330407864431612\n",
      "***************************************************\n",
      "For reg = l2\n",
      "Training Score = 0.7422619784025053\n",
      "Testing Score = 0.8610626645463968\n",
      "***************************************************\n"
     ]
    }
   ],
   "source": [
    "train=[]\n",
    "test=[]\n",
    "reg = ['l1','l2']\n",
    "for i in reg:\n",
    "    print('For reg =',i)\n",
    "    clf = LinearRegression2(reg = i)\n",
    "    clf.fit(X_train,y_train)\n",
    "    print('Training Score =',clf.score(X_train,y_train))\n",
    "    print('Testing Score =',clf.score(X_test,y_test))\n",
    "    train.append(round(clf.score(X_train,y_train),3))\n",
    "    test.append(round(clf.score(X_test,y_test),3))\n",
    "    print('***************************************************')"
   ]
  },
  {
   "cell_type": "code",
   "execution_count": null,
   "metadata": {},
   "outputs": [],
   "source": []
  },
  {
   "cell_type": "markdown",
   "metadata": {},
   "source": [
    "### Effect of outliers on linear regression of mae vs mse loss"
   ]
  },
  {
   "cell_type": "code",
   "execution_count": 18,
   "metadata": {},
   "outputs": [
    {
     "data": {
      "image/png": "[encoded data removed]",
      "text/plain": [
       "<Figure size 432x288 with 1 Axes>"
      ]
     },
     "metadata": {
      "needs_background": "light"
     },
     "output_type": "display_data"
    }
   ],
   "source": [
    "N = 50\n",
    "\n",
    "# generate the data\n",
    "X = np.linspace(0,10,N)\n",
    "Y = 0.5*X + np.random.randn(N)\n",
    "\n",
    "# make outliers\n",
    "Y[-1] += 30\n",
    "Y[-2] += 30\n",
    "\n",
    "# plot the data\n",
    "plt.scatter(X, Y)\n",
    "plt.show()"
   ]
  },
  {
   "cell_type": "code",
   "execution_count": 19,
   "metadata": {},
   "outputs": [
    {
     "data": {
      "text/plain": [
       "((50,), (50,))"
      ]
     },
     "execution_count": 19,
     "metadata": {},
     "output_type": "execute_result"
    }
   ],
   "source": [
    "X.shape,Y.shape"
   ]
  },
  {
   "cell_type": "code",
   "execution_count": 20,
   "metadata": {},
   "outputs": [],
   "source": [
    "clf1 = LinearRegression()\n",
    "clf1.fit(X, Y)\n",
    "clf2 = LinearRegression2()\n",
    "clf2.fit(X, Y)"
   ]
  },
  {
   "cell_type": "code",
   "execution_count": 21,
   "metadata": {},
   "outputs": [],
   "source": [
    "w1 = clf1.weights()\n",
    "w2 = clf2.weights()"
   ]
  },
  {
   "cell_type": "code",
   "execution_count": 22,
   "metadata": {},
   "outputs": [
    {
     "data": {
      "image/png": "[encoded data removed]",
      "text/plain": [
       "<Figure size 432x288 with 1 Axes>"
      ]
     },
     "metadata": {
      "needs_background": "light"
     },
     "output_type": "display_data"
    }
   ],
   "source": [
    "x = np.vstack([np.ones(N), X]).T\n",
    "y_pred1 = x.dot(w1)\n",
    "y_pred2 = x.dot(w2)\n",
    "plt.scatter(x[:,1], Y)\n",
    "plt.plot(x[:,1], y_pred1, label='LR with MSE loss',color='r')\n",
    "plt.plot(x[:,1], y_pred2, label='LR with MAE loss',color='g')\n",
    "plt.legend()\n",
    "plt.show()"
   ]
  },
  {
   "cell_type": "code",
   "execution_count": null,
   "metadata": {},
   "outputs": [],
   "source": []
  }
 ],
 "metadata": {
  "kernelspec": {
   "display_name": "Python 3",
   "language": "python",
   "name": "python3"
  },
  "language_info": {
   "codemirror_mode": {
    "name": "ipython",
    "version": 3
   },
   "file_extension": ".py",
   "mimetype": "text/x-python",
   "name": "python",
   "nbconvert_exporter": "python",
   "pygments_lexer": "ipython3",
   "version": "3.7.7"
  }
 },
 "nbformat": 4,
 "nbformat_minor": 4
}
