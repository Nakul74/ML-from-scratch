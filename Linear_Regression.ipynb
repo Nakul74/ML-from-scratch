{
 "cells": [
  {
   "cell_type": "code",
   "execution_count": 1,
   "metadata": {},
   "outputs": [],
   "source": [
    "import numpy as np\n",
    "import pandas as pd\n",
    "import matplotlib.pyplot as plt\n",
    "import seaborn as sns"
   ]
  },
  {
   "cell_type": "code",
   "execution_count": 2,
   "metadata": {},
   "outputs": [],
   "source": [
    "class LinearRegression:\n",
    "    \n",
    "    def __init__(self, eta=0.01, reg='l2', reg_coeff=0.01, n_iter=1000, th=1e-3 ):\n",
    "        self.eta = eta\n",
    "        self.reg = reg\n",
    "        self.reg_coeff = reg_coeff\n",
    "        self.n_iter = n_iter\n",
    "        self.th = th\n",
    "        self.w = None\n",
    "        self.mse = None\n",
    "        \n",
    "    def fit(self, X, y):\n",
    "        \n",
    "        v = np.ones((X.shape[0],1))\n",
    "        X = np.c_[v,X]\n",
    "        N, D = X.shape\n",
    "        \n",
    "        self.w = np.zeros(D)\n",
    "        self.mse = []\n",
    "        \n",
    "        for j in range(self.n_iter):\n",
    "            err = 0\n",
    "            for i in range(N):\n",
    "                y_pred = np.dot(X[i],self.w)\n",
    "                d = y_pred - y[i]\n",
    "                \n",
    "                if self.reg == 'l1':\n",
    "                    dw = (np.dot(X[i].T,d) + self.reg_coeff * np.sign(self.w))\n",
    "                else:\n",
    "                    dw = (np.dot(X[i].T,d) + self.reg_coeff * self.w)\n",
    "                    \n",
    "                self.w -= self.eta * dw\n",
    "                err+=np.square(d)\n",
    "                \n",
    "            self.mse.append(err/N)\n",
    "            if j!=0:\n",
    "                if (self.mse[j-1] - self.mse[j]) < self.th:\n",
    "                    break\n",
    "        \n",
    "    def predict(self, X):\n",
    "        v = np.ones((X.shape[0],1))\n",
    "        X = np.c_[v,X]\n",
    "        y_pred = np.dot(X, self.w)\n",
    "        return y_pred\n",
    "    \n",
    "    def metrics(self, X, y):\n",
    "        v = np.ones((X.shape[0],1))\n",
    "        X = np.c_[v,X]\n",
    "        y_pred = np.dot(X, self.w)\n",
    "        d = y-y_pred\n",
    "        mse=np.mean(d**2)\n",
    "        mae=np.mean(abs(d))\n",
    "        rmse=np.sqrt(mse)\n",
    "        r2=1-(sum(d**2)/sum((y-np.mean(y))**2))\n",
    "        print(\"MSE = {}\".format(mse))\n",
    "        print(\"MAE = {}\".format(mae))\n",
    "        print(\"RMSE = {}\".format(rmse))\n",
    "        print(\"R_squared = {}\".format(r2))\n",
    "        \n",
    "    def score(self, X, y):\n",
    "        v = np.ones((X.shape[0],1))\n",
    "        X = np.c_[v,X]\n",
    "        y_pred = np.dot(X, self.w)\n",
    "        d = y-y_pred\n",
    "        r2 = 1-(sum(d**2)/sum((y-np.mean(y))**2))\n",
    "        return r2\n",
    "        \n",
    "    def weights(self):\n",
    "        return self.w\n",
    "    \n",
    "    def error(self):\n",
    "        return np.array(self.mse)"
   ]
  },
  {
   "cell_type": "code",
   "execution_count": 3,
   "metadata": {},
   "outputs": [],
   "source": [
    "df=pd.read_csv(r\"Fish.csv\")"
   ]
  },
  {
   "cell_type": "code",
   "execution_count": 4,
   "metadata": {},
   "outputs": [],
   "source": [
    "X=df.iloc[:,df.columns !='Weight']\n",
    "y=df.iloc[:,df.columns =='Weight']"
   ]
  },
  {
   "cell_type": "code",
   "execution_count": 5,
   "metadata": {},
   "outputs": [],
   "source": [
    "from sklearn.model_selection import train_test_split\n",
    "X_train, X_test, y_train, y_test = train_test_split(X, y,test_size=0.3 , random_state=100)"
   ]
  },
  {
   "cell_type": "code",
   "execution_count": 6,
   "metadata": {},
   "outputs": [],
   "source": [
    "from feature_engine.encoding import OneHotEncoder\n",
    "encoder=OneHotEncoder(variables=['Species'] ,drop_last=True)\n",
    "X_train=encoder.fit_transform(X_train)\n",
    "X_test=encoder.transform(X_test)"
   ]
  },
  {
   "cell_type": "code",
   "execution_count": 7,
   "metadata": {},
   "outputs": [],
   "source": [
    "from sklearn.preprocessing import StandardScaler\n",
    "scaler=StandardScaler()\n",
    "X_train=scaler.fit_transform(X_train)\n",
    "X_test=scaler.transform(X_test)"
   ]
  },
  {
   "cell_type": "code",
   "execution_count": 8,
   "metadata": {},
   "outputs": [],
   "source": [
    "y_train=y_train.values\n",
    "y_test=y_test.values"
   ]
  },
  {
   "cell_type": "code",
   "execution_count": 9,
   "metadata": {},
   "outputs": [],
   "source": [
    "y_train=y_train.reshape(-1)\n",
    "y_test=y_test.reshape(-1)"
   ]
  },
  {
   "cell_type": "code",
   "execution_count": 10,
   "metadata": {},
   "outputs": [
    {
     "name": "stdout",
     "output_type": "stream",
     "text": [
      "MSE = 8124.100011004218\n",
      "MAE = 70.89194510750913\n",
      "RMSE = 90.13378950762149\n",
      "R_squared = 0.9242364895080807\n"
     ]
    }
   ],
   "source": [
    "clf = LinearRegression()\n",
    "clf.fit(X_train, y_train)\n",
    "clf.metrics(X_test,y_test)"
   ]
  },
  {
   "cell_type": "code",
   "execution_count": 11,
   "metadata": {},
   "outputs": [
    {
     "data": {
      "text/plain": [
       "array([ 387.28557262,  128.27968249,  158.4844008 ,  148.40815629,\n",
       "         19.0940204 ,    4.0173463 ,   -9.21425662,   10.67722269,\n",
       "         -2.43175086, -100.37174784,   74.06331238,   18.53668035])"
      ]
     },
     "execution_count": 11,
     "metadata": {},
     "output_type": "execute_result"
    }
   ],
   "source": [
    "w = clf.weights()\n",
    "w"
   ]
  },
  {
   "cell_type": "code",
   "execution_count": 12,
   "metadata": {},
   "outputs": [
    {
     "data": {
      "text/plain": [
       "array([101003.30557271,  21835.35227292,  13949.16257375,  12397.14142821,\n",
       "        11875.27880592,  11611.17303138,  11437.24366153,  11303.04708935,\n",
       "        11190.45621311,  11092.10927318,  11004.55758713,  10925.87766218,\n",
       "        10854.79982265,  10790.37498881,  10731.83813329,  10678.5463547 ,\n",
       "        10629.94690374,  10585.55825573,  10544.95749703,  10507.77114604,\n",
       "        10473.66806149,  10442.35374188,  10413.56561964,  10387.06910506,\n",
       "        10362.65421729,  10340.13268853,  10319.33545767,  10300.11048999,\n",
       "        10282.32087273,  10265.84314645,  10250.56583918,  10236.38817599,\n",
       "        10223.21894066,  10210.97547002,  10199.58276401,  10188.97269691,\n",
       "        10179.08331752,  10169.85822712,  10161.24602613,  10153.19982105,\n",
       "        10145.67678472,  10138.63776358,  10132.04692649,  10125.87145044,\n",
       "        10120.08123877,  10114.64866847,  10109.54836315,  10104.75698891,\n",
       "        10100.2530706 ,  10096.01682627,  10092.03001779,  10088.27581608,\n",
       "        10084.73867917,  10081.40424198,  10078.25921645,  10075.29130109,\n",
       "        10072.48909877,  10069.84204227,  10067.34032642,  10064.97484646,\n",
       "        10062.73714193,  10060.61934548,  10058.61413622,  10056.71469712,\n",
       "        10054.91467608,  10053.20815039,  10051.58959409,  10050.05384826,\n",
       "        10048.59609359,  10047.21182536,  10045.89683042,  10044.64716606,\n",
       "        10043.45914055,  10042.3292953 ,  10041.25438834,  10040.23137923,\n",
       "        10039.257415  ,  10038.3298173 ,  10037.44607047,  10036.6038105 ,\n",
       "        10035.80081493,  10035.03499333,  10034.30437866,  10033.60711918,\n",
       "        10032.94147091,  10032.30579074,  10031.69852996,  10031.11822824,\n",
       "        10030.56350812,  10030.03306978,  10029.52568623,  10029.04019884,\n",
       "        10028.57551315,  10028.13059497,  10027.70446672,  10027.29620407,\n",
       "        10026.90493278,  10026.52982568,  10026.17009995,  10025.82501454,\n",
       "        10025.49386769,  10025.17599471,  10024.87076584,  10024.57758427,\n",
       "        10024.29588423,  10024.0251293 ,  10023.7648107 ,  10023.51444581,\n",
       "        10023.27357666,  10023.04176862,  10022.81860908,  10022.60370627,\n",
       "        10022.39668811,  10022.19720115,  10022.00490955,  10021.81949418,\n",
       "        10021.64065167,  10021.46809362,  10021.30154575,  10021.14074722,\n",
       "        10020.98544987,  10020.8354176 ,  10020.69042571,  10020.5502603 ,\n",
       "        10020.41471775,  10020.28360415,  10020.15673482,  10020.03393386,\n",
       "        10019.91503363,  10019.79987442,  10019.68830398,  10019.58017718,\n",
       "        10019.47535563,  10019.37370734,  10019.27510644,  10019.17943281,\n",
       "        10019.08657186,  10018.9964142 ,  10018.90885542,  10018.82379583,\n",
       "        10018.74114023,  10018.66079767,  10018.5826813 ,  10018.50670811,\n",
       "        10018.43279876,  10018.36087742,  10018.29087158,  10018.22271191,\n",
       "        10018.15633209,  10018.09166866,  10018.02866093,  10017.96725078,\n",
       "        10017.90738258,  10017.84900307,  10017.79206124,  10017.73650824,\n",
       "        10017.68229724,  10017.62938338,  10017.57772365,  10017.52727682,\n",
       "        10017.47800334,  10017.4298653 ,  10017.38282629,  10017.33685139,\n",
       "        10017.29190709,  10017.2479612 ,  10017.20498281,  10017.16294224,\n",
       "        10017.12181096,  10017.08156156,  10017.04216769,  10017.00360401,\n",
       "        10016.96584616,  10016.92887068,  10016.89265504,  10016.85717751,\n",
       "        10016.8224172 ,  10016.78835399,  10016.75496848,  10016.72224201,\n",
       "        10016.69015656,  10016.6586948 ,  10016.62783998,  10016.59757599,\n",
       "        10016.56788724,  10016.53875873,  10016.51017595,  10016.4821249 ,\n",
       "        10016.45459207,  10016.4275644 ,  10016.40102927,  10016.37497449,\n",
       "        10016.34938827,  10016.3242592 ,  10016.29957627,  10016.27532879,\n",
       "        10016.25150646,  10016.22809926,  10016.20509754,  10016.1824919 ,\n",
       "        10016.16027327,  10016.13843286,  10016.11696213,  10016.09585281,\n",
       "        10016.07509689,  10016.05468658,  10016.03461434,  10016.01487285,\n",
       "        10015.995455  ,  10015.97635387,  10015.95756277,  10015.93907517,\n",
       "        10015.92088476,  10015.90298539,  10015.88537105,  10015.86803596,\n",
       "        10015.85097444,  10015.834181  ,  10015.81765028,  10015.80137707,\n",
       "        10015.7853563 ,  10015.76958303,  10015.75405245,  10015.73875988,\n",
       "        10015.72370074,  10015.70887058,  10015.69426508,  10015.67988001,\n",
       "        10015.66571123,  10015.65175473,  10015.63800659,  10015.62446298,\n",
       "        10015.61112016,  10015.59797448,  10015.5850224 ,  10015.57226042,\n",
       "        10015.55968517,  10015.54729332,  10015.53508163,  10015.52304694,\n",
       "        10015.51118615,  10015.49949625,  10015.48797427,  10015.47661733,\n",
       "        10015.4654226 ,  10015.45438732,  10015.44350878,  10015.43278433,\n",
       "        10015.42221139,  10015.41178742,  10015.40150995,  10015.39137654,\n",
       "        10015.38138482,  10015.37153247,  10015.36181719,  10015.35223676,\n",
       "        10015.34278899,  10015.33347174,  10015.32428291,  10015.31522044,\n",
       "        10015.30628231,  10015.29746654,  10015.28877121,  10015.2801944 ,\n",
       "        10015.27173426,  10015.26338895,  10015.25515669,  10015.24703572,\n",
       "        10015.23902431,  10015.23112077,  10015.22332344,  10015.21563069,\n",
       "        10015.20804093,  10015.20055258,  10015.19316411,  10015.185874  ,\n",
       "        10015.17868076,  10015.17158295,  10015.16457913,  10015.1576679 ,\n",
       "        10015.15084786,  10015.14411768,  10015.13747602,  10015.13092157,\n",
       "        10015.12445304,  10015.11806917,  10015.11176873,  10015.10555049,\n",
       "        10015.09941326,  10015.09335586,  10015.08737713,  10015.08147593,\n",
       "        10015.07565115,  10015.06990169,  10015.06422647,  10015.05862442,\n",
       "        10015.0530945 ,  10015.04763569,  10015.04224696,  10015.03692734,\n",
       "        10015.03167584,  10015.02649151,  10015.02137339,  10015.01632055,\n",
       "        10015.01133209,  10015.0064071 ,  10015.0015447 ,  10014.99674402,\n",
       "        10014.99200419,  10014.98732438,  10014.98270375,  10014.97814149,\n",
       "        10014.9736368 ,  10014.96918888,  10014.96479695,  10014.96046026,\n",
       "        10014.95617803,  10014.95194953,  10014.94777404,  10014.94365082,\n",
       "        10014.93957917,  10014.93555839,  10014.9315878 ,  10014.92766672,\n",
       "        10014.92379447,  10014.91997041,  10014.91619389,  10014.91246427,\n",
       "        10014.90878093,  10014.90514324,  10014.9015506 ,  10014.89800241,\n",
       "        10014.89449808,  10014.89103703,  10014.88761868,  10014.88424248,\n",
       "        10014.88090786,  10014.87761427,  10014.87436118,  10014.87114806,\n",
       "        10014.86797438,  10014.86483962,  10014.86174328,  10014.85868486,\n",
       "        10014.85566385,  10014.85267978,  10014.84973216,  10014.84682051,\n",
       "        10014.84394439,  10014.84110331,  10014.83829684,  10014.83552452,\n",
       "        10014.83278591,  10014.83008059,  10014.82740811,  10014.82476807,\n",
       "        10014.82216004,  10014.81958361,  10014.81703838,  10014.81452395,\n",
       "        10014.81203993,  10014.80958593,  10014.80716157,  10014.80476647,\n",
       "        10014.80240026,  10014.80006257,  10014.79775305,  10014.79547133,\n",
       "        10014.79321706,  10014.7909899 ,  10014.78878951,  10014.78661554,\n",
       "        10014.78446767,  10014.78234557,  10014.78024891,  10014.77817738,\n",
       "        10014.77613065,  10014.77410843,  10014.77211039,  10014.77013625,\n",
       "        10014.7681857 ,  10014.76625845,  10014.7643542 ,  10014.76247268,\n",
       "        10014.7606136 ,  10014.75877667,  10014.75696164,  10014.75516821,\n",
       "        10014.75339614,  10014.75164514,  10014.74991497,  10014.74820536,\n",
       "        10014.74651606,  10014.74484682,  10014.74319739,  10014.74156753,\n",
       "        10014.739957  ,  10014.73836556,  10014.73679298,  10014.73523902,\n",
       "        10014.73370346,  10014.73218607,  10014.73068663,  10014.72920492,\n",
       "        10014.72774072,  10014.72629382,  10014.72486401,  10014.72345108,\n",
       "        10014.72205482,  10014.72067503,  10014.71931151,  10014.71796406,\n",
       "        10014.7166325 ,  10014.71531661,  10014.71401622,  10014.71273114,\n",
       "        10014.71146117,  10014.71020615,  10014.70896588,  10014.70774019,\n",
       "        10014.70652891,  10014.70533185,  10014.70414885,  10014.70297973,\n",
       "        10014.70182434,  10014.7006825 ,  10014.69955405,  10014.69843883,\n",
       "        10014.69733669,  10014.69624745,  10014.69517098,  10014.69410711,\n",
       "        10014.6930557 ,  10014.6920166 ,  10014.69098965,  10014.68997471,\n",
       "        10014.68897164,  10014.6879803 ])"
      ]
     },
     "execution_count": 12,
     "metadata": {},
     "output_type": "execute_result"
    }
   ],
   "source": [
    "mse = clf.error()\n",
    "mse"
   ]
  },
  {
   "cell_type": "code",
   "execution_count": 13,
   "metadata": {
    "scrolled": true
   },
   "outputs": [
    {
     "data": {
      "text/plain": [
       "[<matplotlib.lines.Line2D at 0x2979da27508>]"
      ]
     },
     "execution_count": 13,
     "metadata": {},
     "output_type": "execute_result"
    },
    {
     "data": {
      "image/png": "[encoded data removed]",
      "text/plain": [
       "<Figure size 432x288 with 1 Axes>"
      ]
     },
     "metadata": {
      "needs_background": "light"
     },
     "output_type": "display_data"
    }
   ],
   "source": [
    "plt.plot(mse)"
   ]
  },
  {
   "cell_type": "code",
   "execution_count": null,
   "metadata": {},
   "outputs": [],
   "source": []
  },
  {
   "cell_type": "markdown",
   "metadata": {},
   "source": [
    "### Effect of n_iter on Linear Regression"
   ]
  },
  {
   "cell_type": "code",
   "execution_count": 14,
   "metadata": {},
   "outputs": [
    {
     "name": "stdout",
     "output_type": "stream",
     "text": [
      "For i = 100\n",
      "Training Score = 0.9332118142041816\n",
      "Testing Score = 0.9243063759145758\n",
      "***************************************************\n",
      "For i = 200\n",
      "Training Score = 0.933251837190709\n",
      "Testing Score = 0.9242218866990887\n",
      "***************************************************\n",
      "For i = 300\n",
      "Training Score = 0.9332562213707905\n",
      "Testing Score = 0.9242305995885537\n",
      "***************************************************\n",
      "For i = 400\n",
      "Training Score = 0.9332574847417567\n",
      "Testing Score = 0.9242355861800304\n",
      "***************************************************\n",
      "For i = 500\n",
      "Training Score = 0.9332576886619072\n",
      "Testing Score = 0.9242364895080807\n",
      "***************************************************\n",
      "For i = 600\n",
      "Training Score = 0.9332576886619072\n",
      "Testing Score = 0.9242364895080807\n",
      "***************************************************\n",
      "For i = 700\n",
      "Training Score = 0.9332576886619072\n",
      "Testing Score = 0.9242364895080807\n",
      "***************************************************\n",
      "For i = 800\n",
      "Training Score = 0.9332576886619072\n",
      "Testing Score = 0.9242364895080807\n",
      "***************************************************\n",
      "For i = 900\n",
      "Training Score = 0.9332576886619072\n",
      "Testing Score = 0.9242364895080807\n",
      "***************************************************\n",
      "For i = 1000\n",
      "Training Score = 0.9332576886619072\n",
      "Testing Score = 0.9242364895080807\n",
      "***************************************************\n"
     ]
    }
   ],
   "source": [
    "train=[]\n",
    "test=[]\n",
    "for i in range(100,1001,100):\n",
    "    print('For i =',i)\n",
    "    clf = LinearRegression(n_iter = i)\n",
    "    clf.fit(X_train,y_train)\n",
    "    print('Training Score =',clf.score(X_train,y_train))\n",
    "    print('Testing Score =',clf.score(X_test,y_test))\n",
    "    train.append(round(clf.score(X_train,y_train),3))\n",
    "    test.append(round(clf.score(X_test,y_test),3))\n",
    "    print('***************************************************')"
   ]
  },
  {
   "cell_type": "code",
   "execution_count": 15,
   "metadata": {},
   "outputs": [
    {
     "data": {
      "text/plain": [
       "[<matplotlib.lines.Line2D at 0x2979db0f2c8>]"
      ]
     },
     "execution_count": 15,
     "metadata": {},
     "output_type": "execute_result"
    },
    {
     "data": {
      "image/png": "[encoded data removed]",
      "text/plain": [
       "<Figure size 432x288 with 1 Axes>"
      ]
     },
     "metadata": {
      "needs_background": "light"
     },
     "output_type": "display_data"
    }
   ],
   "source": [
    "plt.plot(train)\n",
    "plt.plot(test)"
   ]
  },
  {
   "cell_type": "markdown",
   "metadata": {},
   "source": [
    "### Effect of type of regularization on model"
   ]
  },
  {
   "cell_type": "code",
   "execution_count": 16,
   "metadata": {},
   "outputs": [
    {
     "name": "stdout",
     "output_type": "stream",
     "text": [
      "For reg = l1\n",
      "Training Score = 0.9345077433099719\n",
      "Testing Score = 0.9209117650857908\n",
      "***************************************************\n",
      "For reg = l2\n",
      "Training Score = 0.9332576886619072\n",
      "Testing Score = 0.9242364895080807\n",
      "***************************************************\n"
     ]
    }
   ],
   "source": [
    "train=[]\n",
    "test=[]\n",
    "reg = ['l1','l2']\n",
    "for i in reg:\n",
    "    print('For reg =',i)\n",
    "    clf = LinearRegression(reg = i)\n",
    "    clf.fit(X_train,y_train)\n",
    "    print('Training Score =',clf.score(X_train,y_train))\n",
    "    print('Testing Score =',clf.score(X_test,y_test))\n",
    "    train.append(round(clf.score(X_train,y_train),3))\n",
    "    test.append(round(clf.score(X_test,y_test),3))\n",
    "    print('***************************************************')"
   ]
  },
  {
   "cell_type": "code",
   "execution_count": null,
   "metadata": {},
   "outputs": [],
   "source": []
  },
  {
   "cell_type": "markdown",
   "metadata": {},
   "source": [
    "### Using regularization to supress impact of outliers"
   ]
  },
  {
   "cell_type": "code",
   "execution_count": 17,
   "metadata": {},
   "outputs": [
    {
     "data": {
      "image/png": "[encoded data removed]",
      "text/plain": [
       "<Figure size 432x288 with 1 Axes>"
      ]
     },
     "metadata": {
      "needs_background": "light"
     },
     "output_type": "display_data"
    }
   ],
   "source": [
    "N = 50\n",
    "\n",
    "# generate the data\n",
    "X = np.linspace(0,10,N)\n",
    "Y = 0.5*X + np.random.randn(N)\n",
    "\n",
    "# make outliers\n",
    "Y[-1] += 30\n",
    "Y[-2] += 30\n",
    "\n",
    "# plot the data\n",
    "plt.scatter(X, Y)\n",
    "plt.show()"
   ]
  },
  {
   "cell_type": "code",
   "execution_count": 18,
   "metadata": {},
   "outputs": [
    {
     "data": {
      "text/plain": [
       "((50,), (50,))"
      ]
     },
     "execution_count": 18,
     "metadata": {},
     "output_type": "execute_result"
    }
   ],
   "source": [
    "X.shape,Y.shape"
   ]
  },
  {
   "cell_type": "code",
   "execution_count": 19,
   "metadata": {},
   "outputs": [],
   "source": [
    "w = {}\n",
    "for i in [0,10,100]:\n",
    "    clf = LinearRegression(reg_coeff = i)\n",
    "    clf.fit(X, Y)\n",
    "    w[i] = clf.weights()"
   ]
  },
  {
   "cell_type": "code",
   "execution_count": 20,
   "metadata": {},
   "outputs": [
    {
     "data": {
      "text/plain": [
       "{0: array([-0.27450321,  3.49507065]),\n",
       " 10: array([0.32543963, 3.11605577]),\n",
       " 100: array([0.05311006, 0.53110059])}"
      ]
     },
     "execution_count": 20,
     "metadata": {},
     "output_type": "execute_result"
    }
   ],
   "source": [
    "w"
   ]
  },
  {
   "cell_type": "code",
   "execution_count": 21,
   "metadata": {},
   "outputs": [
    {
     "data": {
      "image/png": "[encoded data removed]",
      "text/plain": [
       "<Figure size 432x288 with 1 Axes>"
      ]
     },
     "metadata": {
      "needs_background": "light"
     },
     "output_type": "display_data"
    },
    {
     "data": {
      "image/png": "[encoded data removed]",
      "text/plain": [
       "<Figure size 432x288 with 1 Axes>"
      ]
     },
     "metadata": {
      "needs_background": "light"
     },
     "output_type": "display_data"
    },
    {
     "data": {
      "image/png": "[encoded data removed]",
      "text/plain": [
       "<Figure size 432x288 with 1 Axes>"
      ]
     },
     "metadata": {
      "needs_background": "light"
     },
     "output_type": "display_data"
    }
   ],
   "source": [
    "l = list(w.keys())\n",
    "x = np.vstack([np.ones(N), X]).T\n",
    "for i in range(len(w)):\n",
    "    y_pred = x.dot(w[l[i]])\n",
    "    plt.scatter(x[:,1], Y)\n",
    "    plt.plot(x[:,1], y_pred, label='Reg : '+str(l[i]),color='g')\n",
    "    plt.legend()\n",
    "    plt.show()"
   ]
  },
  {
   "cell_type": "code",
   "execution_count": null,
   "metadata": {},
   "outputs": [],
   "source": []
  }
 ],
 "metadata": {
  "kernelspec": {
   "display_name": "Python 3",
   "language": "python",
   "name": "python3"
  },
  "language_info": {
   "codemirror_mode": {
    "name": "ipython",
    "version": 3
   },
   "file_extension": ".py",
   "mimetype": "text/x-python",
   "name": "python",
   "nbconvert_exporter": "python",
   "pygments_lexer": "ipython3",
   "version": "3.7.7"
  }
 },
 "nbformat": 4,
 "nbformat_minor": 4
}
