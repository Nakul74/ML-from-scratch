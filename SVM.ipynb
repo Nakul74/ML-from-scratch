{
 "cells": [
  {
   "cell_type": "code",
   "execution_count": 1,
   "metadata": {},
   "outputs": [],
   "source": [
    "import numpy as np\n",
    "import pandas as pd\n",
    "import matplotlib.pyplot as plt\n",
    "import seaborn as sns"
   ]
  },
  {
   "cell_type": "code",
   "execution_count": 2,
   "metadata": {},
   "outputs": [],
   "source": [
    "class SVC:\n",
    "    \n",
    "    def __init__(self, eta=0.01, reg='l2', reg_coeff=0.001, n_iter=1000):\n",
    "        self.eta = eta\n",
    "        self.reg = reg\n",
    "        self.reg_coeff = reg_coeff\n",
    "        self.n_iter = n_iter\n",
    "        self.w = None\n",
    "        self.b = None\n",
    "        self.loss = None\n",
    "        \n",
    "    def fit(self, X, y):\n",
    "        N,D = X.shape\n",
    "        y = np.where(y <= 0, -1, 1)\n",
    "        \n",
    "        self.w = np.zeros(D)\n",
    "        self.b = 0\n",
    "        self.loss = []\n",
    "        \n",
    "        for j in range(self.n_iter):\n",
    "            error = 0\n",
    "            for i in range(N):\n",
    "                condition = y[i] * (np.dot(X[i],self.w) + self.b)\n",
    "                \n",
    "                if condition>=1:\n",
    "                    if self.reg == 'l1':\n",
    "                        dw = np.sign(self.w)\n",
    "                    else: \n",
    "                        dw = self.w\n",
    "                    db = 0\n",
    "                    \n",
    "                else:\n",
    "                    if self.reg == 'l1':\n",
    "                        dw = self.reg_coeff * np.sign(self.w) - np.dot(X[i],y[i])\n",
    "                    else : \n",
    "                        dw = self.reg_coeff * self.w - np.dot(X[i],y[i]) \n",
    "                    db = -y[i]\n",
    "                    \n",
    "                self.w -= self.eta *  dw\n",
    "                self.b -= self.eta * db\n",
    "                error += self.hinge(condition)\n",
    "                \n",
    "            self.loss.append(error/N)\n",
    "                \n",
    "                \n",
    "                \n",
    "    def hinge(self,condition):\n",
    "        if condition >=1:\n",
    "            return 0\n",
    "        else:\n",
    "            return 1-condition\n",
    "        \n",
    "    def predict(self, X):\n",
    "        y_pred = np.sign(np.dot(X, self.w) + self.b)\n",
    "        p=[1 if n >= 0 else 0 for n in y_pred]\n",
    "        return y_pred\n",
    "    \n",
    "    def score(self,X,y):\n",
    "        y_pred = np.sign(np.dot(X, self.w) + self.b)\n",
    "        y_pred=[1 if n >= 0 else 0 for n in y_pred]\n",
    "        accuracy = np.sum(y == y_pred) / len(y)\n",
    "        return accuracy\n",
    "        \n",
    "    def weights(self):\n",
    "        return self.w,self.b\n",
    "    \n",
    "    def error(self):\n",
    "        return np.array(self.loss)"
   ]
  },
  {
   "cell_type": "code",
   "execution_count": 3,
   "metadata": {},
   "outputs": [],
   "source": [
    "df=pd.read_csv(r'heart.csv')"
   ]
  },
  {
   "cell_type": "code",
   "execution_count": 4,
   "metadata": {},
   "outputs": [],
   "source": [
    "df['cp']=df['cp'].astype('object')\n",
    "df['slope']=df['slope'].astype('object')\n",
    "df['thal']=df['thal'].astype('object')"
   ]
  },
  {
   "cell_type": "code",
   "execution_count": 5,
   "metadata": {},
   "outputs": [],
   "source": [
    "X=df.iloc[:,df.columns !='target']\n",
    "y=df.iloc[:,df.columns =='target']"
   ]
  },
  {
   "cell_type": "code",
   "execution_count": 6,
   "metadata": {},
   "outputs": [],
   "source": [
    "from sklearn.model_selection import train_test_split\n",
    "X_train, X_test, y_train, y_test = train_test_split(X, y,stratify=y, test_size=0.25 , random_state=100)"
   ]
  },
  {
   "cell_type": "code",
   "execution_count": 7,
   "metadata": {},
   "outputs": [],
   "source": [
    "from feature_engine.encoding import OneHotEncoder\n",
    "encoder=OneHotEncoder(variables=['cp','slope','thal'] ,drop_last=True)\n",
    "X_train=encoder.fit_transform(X_train)\n",
    "X_test=encoder.transform(X_test)"
   ]
  },
  {
   "cell_type": "code",
   "execution_count": 8,
   "metadata": {},
   "outputs": [],
   "source": [
    "from sklearn.preprocessing import StandardScaler\n",
    "scaler=StandardScaler()\n",
    "X_train=scaler.fit_transform(X_train)\n",
    "X_test=scaler.transform(X_test)"
   ]
  },
  {
   "cell_type": "code",
   "execution_count": 9,
   "metadata": {},
   "outputs": [],
   "source": [
    "y_train=y_train.values\n",
    "y_test=y_test.values"
   ]
  },
  {
   "cell_type": "code",
   "execution_count": 10,
   "metadata": {},
   "outputs": [],
   "source": [
    "y_train=y_train.reshape(-1)\n",
    "y_test=y_test.reshape(-1)"
   ]
  },
  {
   "cell_type": "code",
   "execution_count": null,
   "metadata": {},
   "outputs": [],
   "source": [
    "clf = SVC()\n",
    "clf.fit(X_train, y_train)\n",
    "clf.score(X_test,y_test)"
   ]
  },
  {
   "cell_type": "code",
   "execution_count": null,
   "metadata": {},
   "outputs": [],
   "source": [
    "error = clf.error()\n",
    "print(error)"
   ]
  },
  {
   "cell_type": "code",
   "execution_count": null,
   "metadata": {},
   "outputs": [],
   "source": [
    "plt.plot(error)"
   ]
  },
  {
   "cell_type": "code",
   "execution_count": null,
   "metadata": {},
   "outputs": [],
   "source": []
  }
 ],
 "metadata": {
  "kernelspec": {
   "display_name": "Python 3",
   "language": "python",
   "name": "python3"
  },
  "language_info": {
   "codemirror_mode": {
    "name": "ipython",
    "version": 3
   },
   "file_extension": ".py",
   "mimetype": "text/x-python",
   "name": "python",
   "nbconvert_exporter": "python",
   "pygments_lexer": "ipython3",
   "version": "3.7.7"
  }
 },
 "nbformat": 4,
 "nbformat_minor": 4
}
