{
 "cells": [
  {
   "cell_type": "code",
   "execution_count": null,
   "metadata": {},
   "outputs": [],
   "source": [
    "import numpy as np\n",
    "import pandas as pd\n",
    "import matplotlib.pyplot as plt\n",
    "import seaborn as sns"
   ]
  },
  {
   "cell_type": "code",
   "execution_count": null,
   "metadata": {},
   "outputs": [],
   "source": [
    "class LogisticRegression:\n",
    "    \n",
    "    def __init__(self, eta=0.01, reg='l2', reg_coeff=0.01, n_iter=1000, th = 1e-4):\n",
    "        self.eta = eta\n",
    "        self.reg = reg\n",
    "        self.reg_coeff = reg_coeff\n",
    "        self.n_iter = n_iter\n",
    "        self.th = th\n",
    "        self.w = None\n",
    "        self.entropy = None\n",
    "        \n",
    "    def fit(self, X, y):\n",
    "        v=np.ones((X.shape[0],1))\n",
    "        X=np.append(v,X,axis=1)\n",
    "        N, D = X.shape\n",
    "        \n",
    "        self.w = np.zeros(D)\n",
    "        self.entropy = []\n",
    "        \n",
    "        for j in range(self.n_iter):\n",
    "            err=0\n",
    "            for i in range(N):\n",
    "                y_pred = self.sigmoid(np.dot(X[i],self.w))\n",
    "                d = y_pred - y[i]\n",
    "                \n",
    "                if self.reg == 'l1':\n",
    "                    dw = np.dot(X[i].T,d) + self.reg_coeff * np.sign(self.w)\n",
    "                else :\n",
    "                    dw = np.dot(X[i].T,d) + self.reg_coeff * self.w\n",
    "                    \n",
    "                self.w -= self.eta*dw\n",
    "                err += self.cross_entropy(y[i],y_pred)\n",
    "            self.entropy.append(err/N)\n",
    "            if j!=0:\n",
    "                if (self.entropy[j-1] - self.entropy[j]) < self.th:\n",
    "                    break\n",
    "        \n",
    "    def sigmoid(self, z):\n",
    "        return 1/(1 + np.exp(-z))\n",
    "    \n",
    "    \n",
    "    def cross_entropy(self,y ,y_pred): \n",
    "        if y==1:\n",
    "            error = -np.log(y_pred)\n",
    "        else:\n",
    "            error = -np.log(1-y_pred)\n",
    "        \n",
    "        return error\n",
    "    \n",
    "    \n",
    "    def predict_prob(self, X):\n",
    "        v = np.ones((X.shape[0],1))\n",
    "        X = np.append(v,X,axis=1)\n",
    "        y_pred = self.sigmoid(np.dot(X, self.w))\n",
    "        return y_pred\n",
    "    \n",
    "    def score(self,X,y):\n",
    "        y_pred=self.predict_prob(X)\n",
    "        y_pred=[1 if n >= 0.5 else 0 for n in y_pred]\n",
    "        accuracy = np.sum(y == y_pred) / len(y)\n",
    "        return accuracy\n",
    "    \n",
    "    def weights(self):\n",
    "        return self.w\n",
    "    \n",
    "    def error(self):\n",
    "        return np.array(self.entropy)"
   ]
  },
  {
   "cell_type": "code",
   "execution_count": null,
   "metadata": {},
   "outputs": [],
   "source": [
    "df=pd.read_csv(r'heart.csv')"
   ]
  },
  {
   "cell_type": "code",
   "execution_count": null,
   "metadata": {},
   "outputs": [],
   "source": [
    "df['cp']=df['cp'].astype('object')\n",
    "df['slope']=df['slope'].astype('object')\n",
    "df['thal']=df['thal'].astype('object')"
   ]
  },
  {
   "cell_type": "code",
   "execution_count": null,
   "metadata": {},
   "outputs": [],
   "source": [
    "X=df.iloc[:,df.columns !='target']\n",
    "y=df.iloc[:,df.columns =='target']"
   ]
  },
  {
   "cell_type": "code",
   "execution_count": 54,
   "metadata": {},
   "outputs": [],
   "source": [
    "from sklearn.model_selection import train_test_split\n",
    "X_train, X_test, y_train, y_test = train_test_split(X, y,stratify=y, test_size=0.25 , random_state=100)"
   ]
  },
  {
   "cell_type": "code",
   "execution_count": 55,
   "metadata": {},
   "outputs": [],
   "source": [
    "from feature_engine.encoding import OneHotEncoder\n",
    "encoder=OneHotEncoder(variables=['cp','slope','thal'] ,drop_last=True)\n",
    "X_train=encoder.fit_transform(X_train)\n",
    "X_test=encoder.transform(X_test)"
   ]
  },
  {
   "cell_type": "code",
   "execution_count": 56,
   "metadata": {},
   "outputs": [],
   "source": [
    "from sklearn.preprocessing import StandardScaler\n",
    "scaler=StandardScaler()\n",
    "X_train=scaler.fit_transform(X_train)\n",
    "X_test=scaler.transform(X_test)"
   ]
  },
  {
   "cell_type": "code",
   "execution_count": 57,
   "metadata": {},
   "outputs": [],
   "source": [
    "y_train=y_train.values\n",
    "y_test=y_test.values"
   ]
  },
  {
   "cell_type": "code",
   "execution_count": 58,
   "metadata": {},
   "outputs": [],
   "source": [
    "y_train=y_train.reshape(-1)\n",
    "y_test=y_test.reshape(-1)"
   ]
  },
  {
   "cell_type": "code",
   "execution_count": 59,
   "metadata": {},
   "outputs": [
    {
     "data": {
      "text/plain": [
       "0.868421052631579"
      ]
     },
     "execution_count": 59,
     "metadata": {},
     "output_type": "execute_result"
    }
   ],
   "source": [
    "clf = LogisticRegression()\n",
    "clf.fit(X_train, y_train)\n",
    "clf.score(X_test,y_test)"
   ]
  },
  {
   "cell_type": "code",
   "execution_count": 60,
   "metadata": {},
   "outputs": [
    {
     "name": "stdout",
     "output_type": "stream",
     "text": [
      "[0.50559485 0.41053547 0.39302169 0.38560855 0.38156891 0.37909754\n",
      " 0.3774777  0.3763632  0.37556719 0.37498129 0.37453914 0.37419836\n",
      " 0.37393092 0.37371771 0.37354534 0.37340426 0.37328747 0.3731898 ]\n"
     ]
    }
   ],
   "source": [
    "error = clf.error()\n",
    "print(error)"
   ]
  },
  {
   "cell_type": "code",
   "execution_count": 61,
   "metadata": {},
   "outputs": [
    {
     "data": {
      "text/plain": [
       "[<matplotlib.lines.Line2D at 0x1b1ec0bf408>]"
      ]
     },
     "execution_count": 61,
     "metadata": {},
     "output_type": "execute_result"
    },
    {
     "data": {
      "image/png": "[encoded data removed]",
      "text/plain": [
       "<Figure size 432x288 with 1 Axes>"
      ]
     },
     "metadata": {
      "needs_background": "light"
     },
     "output_type": "display_data"
    }
   ],
   "source": [
    "plt.plot(error)"
   ]
  },
  {
   "cell_type": "code",
   "execution_count": null,
   "metadata": {},
   "outputs": [],
   "source": []
  }
 ],
 "metadata": {
  "kernelspec": {
   "display_name": "Python 3",
   "language": "python",
   "name": "python3"
  },
  "language_info": {
   "codemirror_mode": {
    "name": "ipython",
    "version": 3
   },
   "file_extension": ".py",
   "mimetype": "text/x-python",
   "name": "python",
   "nbconvert_exporter": "python",
   "pygments_lexer": "ipython3",
   "version": "3.7.7"
  }
 },
 "nbformat": 4,
 "nbformat_minor": 4
}
